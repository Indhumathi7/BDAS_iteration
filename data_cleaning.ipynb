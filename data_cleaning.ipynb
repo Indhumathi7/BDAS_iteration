{
 "cells": [
  {
   "cell_type": "code",
   "execution_count": 8,
   "metadata": {},
   "outputs": [],
   "source": [
    "import findspark\n",
    "findspark.init('/home/ubuntu/spark-2.1.1-bin-hadoop2.7')\n",
    "import pyspark\n",
    "from pyspark.sql import SparkSession\n",
    "spark = SparkSession.builder.appName('Data_prep').getOrCreate()"
   ]
  },
  {
   "cell_type": "code",
   "execution_count": 9,
   "metadata": {},
   "outputs": [],
   "source": [
    "df = spark.read.csv('Dataset/house_rents_csv.csv')"
   ]
  },
  {
   "cell_type": "code",
   "execution_count": 10,
   "metadata": {},
   "outputs": [
    {
     "data": {
      "text/plain": [
       "['_c0',\n",
       " '_c1',\n",
       " '_c2',\n",
       " '_c3',\n",
       " '_c4',\n",
       " '_c5',\n",
       " '_c6',\n",
       " '_c7',\n",
       " '_c8',\n",
       " '_c9',\n",
       " '_c10',\n",
       " '_c11',\n",
       " '_c12',\n",
       " '_c13']"
      ]
     },
     "execution_count": 10,
     "metadata": {},
     "output_type": "execute_result"
    }
   ],
   "source": [
    "df.columns"
   ]
  },
  {
   "cell_type": "code",
   "execution_count": 11,
   "metadata": {},
   "outputs": [
    {
     "name": "stdout",
     "output_type": "stream",
     "text": [
      "+------------+------------------+-----+----+---------+-------------+----------+--------------------+--------+--------------------+--------+--------+----+--------------+\n",
      "|         _c0|               _c1|  _c2| _c3|      _c4|          _c5|       _c6|                 _c7|     _c8|                 _c9|    _c10|    _c11|_c12|          _c13|\n",
      "+------------+------------------+-----+----+---------+-------------+----------+--------------------+--------+--------------------+--------+--------+----+--------------+\n",
      "|      Suburb|           Address|Rooms|Type|    Price|      SellerG|      Date|        Region name |Distance|         CouncilArea|Bedrooms|Bathroom| Car|Property Count|\n",
      "|  Abbotsford|     49 Lithgow St|    3|   h|1490000.0|       Jellis|01-04-2017|Northern Metropol...|     3.0|  Yarra City Council|     2.0|     1.0| 1.0|          4019|\n",
      "|  Abbotsford|     59A Turner St|    3|   h|1220000.0|     Marshall|01-04-2017|Northern Metropol...|     3.0|  Yarra City Council|     2.0|     1.0| 1.0|          4019|\n",
      "|  Abbotsford|     119B Yarra St|    3|   h|1420000.0|       Nelson|01-04-2017|Northern Metropol...|     3.0|  Yarra City Council|     2.0|     1.0| 0.0|          4019|\n",
      "|  Aberfeldie|        68 Vida St|    3|   h|1515000.0|        Barry|01-04-2017|Western Metropolitan|     7.5|Moonee Valley Cit...|     3.0|     2.0| 1.0|          1543|\n",
      "|Airport West|  92 Clydesdale Rd|    2|   h| 670000.0|       Nelson|01-04-2017|Western Metropolitan|    10.4|Moonee Valley Cit...|     3.0|     2.0| 0.0|          3464|\n",
      "|Airport West|      4/32 Earl St|    2|   t| 530000.0|       Jellis|01-04-2017|Western Metropolitan|    10.4|Moonee Valley Cit...|     3.0|     2.0| 1.0|          3464|\n",
      "|Airport West|    3/74 Hawker St|    2|   u| 540000.0|        Barry|01-04-2017|Western Metropolitan|    10.4|Moonee Valley Cit...|     3.0|     1.0| 2.0|          3464|\n",
      "|Airport West| 1/26 Highridge Cr|    3|   h| 715000.0|       Nelson|01-04-2017|Western Metropolitan|    10.4|Moonee Valley Cit...|     3.0|     2.0| 2.0|          3464|\n",
      "| Albert Park|       18 Mills St|    3|   h|1925000.0|       Cayzer|01-04-2017|Southern Metropol...|     3.0|Port Phillip City...|     3.0|     2.0| 1.0|          3280|\n",
      "|      Albion|3/15 Drummartin St|    3|   u| 515000.0|      Douglas|01-04-2017|Western Metropolitan|    10.5|Brimbank City Cou...|     2.0|     1.0| 0.0|          2185|\n",
      "|      Albion|    3A Kororoit St|    4|   h| 717000.0|        Bells|01-04-2017|Western Metropolitan|    10.5|Brimbank City Cou...|     4.0|     2.0| 0.0|          2185|\n",
      "|  Alphington|      55 Fulham Rd|    2|   h|1675000.0|        Miles|01-04-2017|Northern Metropol...|     5.7|Darebin City Council|     2.0|     2.0| 1.0|          2211|\n",
      "|  Alphington|    41 Toolangi Rd|    4|   h|2008000.0|       Jellis|01-04-2017|Northern Metropol...|     5.7|Darebin City Council|     6.0|     2.0| 0.0|          2211|\n",
      "|      Altona|      9 Delmont Av|    2|   h| 860000.0|       Barlow|01-04-2017|Western Metropolitan|    11.0|Hobsons Bay City ...|     2.0|     1.0| 2.0|          5301|\n",
      "|    Armadale|  2/23 Ashleigh Rd|    2|   u| 836000.0|       Jellis|01-04-2017|Southern Metropol...|     6.3|Stonnington City ...|     1.0|     1.0| 1.0|          4836|\n",
      "|    Armadale|      6A Auburn Gr|    2|   h|2110000.0|       Jellis|01-04-2017|Southern Metropol...|     6.3|Stonnington City ...|     3.0|     1.0| 2.0|          4836|\n",
      "|    Armadale|  14/25 Kooyong Rd|    2|   u| 580000.0|hockingstuart|01-04-2017|Southern Metropol...|     6.3|Stonnington City ...|     2.0|     1.0| 1.0|          4836|\n",
      "|   Ashburton|    1/48 Karnak Rd|    3|   u|1270000.0|    Fletchers|01-04-2017|Southern Metropol...|    10.2|Boroondara City C...|     2.0|     2.0| 1.0|          3052|\n",
      "|   Ashburton|   61A Victory Bvd|    3|   t|1610000.0|       Jellis|01-04-2017|Southern Metropol...|    10.2|Boroondara City C...|     2.0|     2.0| 1.0|          3052|\n",
      "+------------+------------------+-----+----+---------+-------------+----------+--------------------+--------+--------------------+--------+--------+----+--------------+\n",
      "only showing top 20 rows\n",
      "\n"
     ]
    }
   ],
   "source": [
    "df.show()"
   ]
  },
  {
   "cell_type": "code",
   "execution_count": 13,
   "metadata": {},
   "outputs": [
    {
     "name": "stdout",
     "output_type": "stream",
     "text": [
      "root\n",
      " |-- Suburb: string (nullable = true)\n",
      " |-- Address: string (nullable = true)\n",
      " |-- Rooms: integer (nullable = true)\n",
      " |-- Type: string (nullable = true)\n",
      " |-- Price: double (nullable = true)\n",
      " |-- SellerG: string (nullable = true)\n",
      " |-- Date: string (nullable = true)\n",
      " |-- Region name : string (nullable = true)\n",
      " |-- Distance: double (nullable = true)\n",
      " |-- CouncilArea: string (nullable = true)\n",
      " |-- Bedrooms: double (nullable = true)\n",
      " |-- Bathroom: double (nullable = true)\n",
      " |-- Car: double (nullable = true)\n",
      " |-- Property Count: integer (nullable = true)\n",
      "\n"
     ]
    }
   ],
   "source": [
    "df = spark.read.csv('Dataset/house_rents_csv.csv', inferSchema=True, header=True)\n",
    "df.printSchema()"
   ]
  },
  {
   "cell_type": "code",
   "execution_count": 14,
   "metadata": {},
   "outputs": [
    {
     "data": {
      "text/plain": [
       "[Row(Suburb='Abbotsford', Address='49 Lithgow St', Rooms=3, Type='h', Price=1490000.0, SellerG='Jellis', Date='01-04-2017', Region name ='Northern Metropolitan', Distance=3.0, CouncilArea='Yarra City Council', Bedrooms=2.0, Bathroom=1.0, Car=1.0, Property Count=4019)]"
      ]
     },
     "execution_count": 14,
     "metadata": {},
     "output_type": "execute_result"
    }
   ],
   "source": [
    "df.head(1)"
   ]
  },
  {
   "cell_type": "code",
   "execution_count": null,
   "metadata": {},
   "outputs": [],
   "source": []
  }
 ],
 "metadata": {
  "kernelspec": {
   "display_name": "Python 3",
   "language": "python",
   "name": "python3"
  },
  "language_info": {
   "codemirror_mode": {
    "name": "ipython",
    "version": 3
   },
   "file_extension": ".py",
   "mimetype": "text/x-python",
   "name": "python",
   "nbconvert_exporter": "python",
   "pygments_lexer": "ipython3",
   "version": "3.5.2"
  }
 },
 "nbformat": 4,
 "nbformat_minor": 2
}
