{
 "cells": [
  {
   "cell_type": "code",
   "execution_count": 1,
   "metadata": {},
   "outputs": [
    {
     "data": {
      "text/plain": [
       "['Suburb',\n",
       " 'Address',\n",
       " 'Rooms',\n",
       " 'Type',\n",
       " 'Price',\n",
       " 'SellerG',\n",
       " 'Date',\n",
       " 'Postcode',\n",
       " 'Region name ',\n",
       " '_c9',\n",
       " 'Property Count',\n",
       " 'Distance',\n",
       " 'CouncilArea']"
      ]
     },
     "execution_count": 1,
     "metadata": {},
     "output_type": "execute_result"
    }
   ],
   "source": [
    "# Must be included at the beginning of each new notebook. Remember to change the app name.\n",
    "import findspark\n",
    "findspark.init('/home/ubuntu/spark-2.1.1-bin-hadoop2.7')\n",
    "import pyspark\n",
    "from pyspark.sql import SparkSession\n",
    "spark = SparkSession.builder.appName('linear_regression').getOrCreate()\n",
    "\n",
    "# If you're getting an error with numpy, please type 'sudo pip install numpy --user' into the EC2 console.\n",
    "from pyspark.ml.regression import LinearRegression\n",
    "x = spark.read.csv('sample 2.csv', inferSchema=True, header=True)\n",
    "df = spark.read.csv('initial_data1.csv', inferSchema=True, header=True)\n",
    "m1 = spark.read.csv('initial_data2.csv', inferSchema=True, header=True)\n",
    "df.columns"
   ]
  },
  {
   "cell_type": "code",
   "execution_count": 2,
   "metadata": {},
   "outputs": [
    {
     "name": "stdout",
     "output_type": "stream",
     "text": [
      "+--------------+------------------+-----+----+-------+-------------+----------+--------+--------------------+----+--------------+--------+--------------------+\n",
      "|        Suburb|           Address|Rooms|Type|  Price|      SellerG|      Date|Postcode|        Region name | _c9|Property Count|Distance|         CouncilArea|\n",
      "+--------------+------------------+-----+----+-------+-------------+----------+--------+--------------------+----+--------------+--------+--------------------+\n",
      "|    Abbotsford|     49 Lithgow St|    3|   h|1490000|       Jellis|01-04-2017|    3067|Northern Metropol...|null|          4019|     3.0|  Yarra City Council|\n",
      "|    Abbotsford|     59A Turner St|    3|   h|1220000|     Marshall|01-04-2017|    3067|Northern Metropol...|null|          4019|     3.0|  Yarra City Council|\n",
      "|    Abbotsford|     119B Yarra St|    3|   h|1420000|       Nelson|01-04-2017|    3067|Northern Metropol...|null|          4019|     3.0|  Yarra City Council|\n",
      "|    Aberfeldie|        68 Vida St|    3|   h|1515000|        Barry|01-04-2017|    3040|Western Metropolitan|null|          1543|     7.5|Moonee Valley Cit...|\n",
      "|  Airport West|  92 Clydesdale Rd|    2|   h| 670000|       Nelson|01-04-2017|    3042|Western Metropolitan|null|          3464|    10.4|Moonee Valley Cit...|\n",
      "|  Airport West|      4/32 Earl St|    2|   t| 530000|       Jellis|01-04-2017|    3042|Western Metropolitan|null|          3464|    10.4|Moonee Valley Cit...|\n",
      "|  Airport West|    3/74 Hawker St|    2|   u| 540000|        Barry|01-04-2017|    3042|Western Metropolitan|null|          3464|    10.4|Moonee Valley Cit...|\n",
      "|  Airport West| 1/26 Highridge Cr|    3|   h| 715000|       Nelson|01-04-2017|    3042|Western Metropolitan|null|          3464|    10.4|Moonee Valley Cit...|\n",
      "|     Albanvale|     1 Jackson Cct|    6|   h|   null|hockingstuart|01-04-2017|    3021|Western Metropolitan|null|          1899|    14.0|Brimbank City Cou...|\n",
      "|   Albert Park|       18 Mills St|    3|   h|1925000|       Cayzer|01-04-2017|    3206|Southern Metropol...|null|          3280|     3.0|Port Phillip City...|\n",
      "|        Albion|3/15 Drummartin St|    3|   u| 515000|      Douglas|01-04-2017|    3020|Western Metropolitan|null|          2185|    10.5|Brimbank City Cou...|\n",
      "|        Albion|    3A Kororoit St|    4|   h| 717000|        Bells|01-04-2017|    3020|Western Metropolitan|null|          2185|    10.5|Brimbank City Cou...|\n",
      "|    Alphington|      55 Fulham Rd|    2|   h|1675000|        Miles|01-04-2017|    3078|Northern Metropol...|null|          2211|     5.7|Darebin City Council|\n",
      "|    Alphington|    41 Toolangi Rd|    4|   h|2008000|       Jellis|01-04-2017|    3078|Northern Metropol...|null|          2211|     5.7|Darebin City Council|\n",
      "|        Altona|      9 Delmont Av|    2|   h| 860000|       Barlow|01-04-2017|    3018|Western Metropolitan|null|          5301|    11.0|Hobsons Bay City ...|\n",
      "|Altona Meadows|      57 Tatman Dr|    4|   h|   null|        Barry|01-04-2017|    3028|Western Metropolitan|null|          7630|    15.5|Hobsons Bay City ...|\n",
      "|  Altona North|     14 Seventh Av|    3|   h| 720000|       Hunter|01-04-2017|    3025|Western Metropolitan|null|          5132|     9.4|Hobsons Bay City ...|\n",
      "|      Armadale|  2/23 Ashleigh Rd|    2|   u| 836000|       Jellis|01-04-2017|    3143|Southern Metropol...|null|          4836|     6.3|Stonnington City ...|\n",
      "|      Armadale|      6A Auburn Gr|    2|   h|2110000|       Jellis|01-04-2017|    3143|Southern Metropol...|null|          4836|     6.3|Stonnington City ...|\n",
      "|      Armadale|       746 High St|    3|   h|1386000|     Marshall|01-04-2017|    3143|Southern Metropol...|null|          4836|     6.3|Stonnington City ...|\n",
      "+--------------+------------------+-----+----+-------+-------------+----------+--------+--------------------+----+--------------+--------+--------------------+\n",
      "only showing top 20 rows\n",
      "\n",
      "root\n",
      " |-- Suburb: string (nullable = true)\n",
      " |-- Address: string (nullable = true)\n",
      " |-- Rooms: integer (nullable = true)\n",
      " |-- Type: string (nullable = true)\n",
      " |-- Price: integer (nullable = true)\n",
      " |-- Method: string (nullable = true)\n",
      " |-- SellerG: string (nullable = true)\n",
      " |-- Date: string (nullable = true)\n",
      " |-- Postcode: integer (nullable = true)\n",
      " |-- Regionname: string (nullable = true)\n",
      " |-- Propertycount: integer (nullable = true)\n",
      " |-- Distance: double (nullable = true)\n",
      " |-- CouncilArea: string (nullable = true)\n",
      "\n"
     ]
    }
   ],
   "source": [
    "df.show()\n",
    "m1.columns\n",
    "x.printSchema()"
   ]
  },
  {
   "cell_type": "code",
   "execution_count": null,
   "metadata": {},
   "outputs": [],
   "source": []
  },
  {
   "cell_type": "code",
   "execution_count": 3,
   "metadata": {},
   "outputs": [
    {
     "name": "stdout",
     "output_type": "stream",
     "text": [
      "root\n",
      " |-- Suburb: string (nullable = true)\n",
      " |-- Address: string (nullable = true)\n",
      " |-- Rooms: integer (nullable = true)\n",
      " |-- Type: string (nullable = true)\n",
      " |-- Price: integer (nullable = true)\n",
      " |-- SellerG: string (nullable = true)\n",
      " |-- Date: string (nullable = true)\n",
      " |-- Postcode: integer (nullable = true)\n",
      " |-- Region name : string (nullable = true)\n",
      " |-- _c9: string (nullable = true)\n",
      " |-- Property Count: integer (nullable = true)\n",
      " |-- Distance: double (nullable = true)\n",
      " |-- CouncilArea: string (nullable = true)\n",
      "\n"
     ]
    }
   ],
   "source": [
    "# Print the schema of the DataFrame. You can see potential features as well as the predictor.\n",
    "df.printSchema()"
   ]
  },
  {
   "cell_type": "code",
   "execution_count": null,
   "metadata": {},
   "outputs": [],
   "source": []
  },
  {
   "cell_type": "code",
   "execution_count": 4,
   "metadata": {},
   "outputs": [
    {
     "name": "stdout",
     "output_type": "stream",
     "text": [
      "Abbotsford\n",
      "49 Lithgow St\n",
      "3\n",
      "h\n",
      "1490000\n",
      "Jellis\n",
      "01-04-2017\n",
      "3067\n",
      "Northern Metropolitan\n",
      "None\n",
      "4019\n",
      "3.0\n",
      "Yarra City Council\n"
     ]
    }
   ],
   "source": [
    "#a= df.drop('_c9')\n",
    "for item in df.head():\n",
    "    print(item)"
   ]
  },
  {
   "cell_type": "code",
   "execution_count": 5,
   "metadata": {},
   "outputs": [
    {
     "data": {
      "text/plain": [
       "1498"
      ]
     },
     "execution_count": 5,
     "metadata": {},
     "output_type": "execute_result"
    }
   ],
   "source": [
    "m= df.union(m1)\n",
    "m.count()"
   ]
  },
  {
   "cell_type": "code",
   "execution_count": 6,
   "metadata": {},
   "outputs": [
    {
     "data": {
      "text/plain": [
       "375"
      ]
     },
     "execution_count": 6,
     "metadata": {},
     "output_type": "execute_result"
    }
   ],
   "source": [
    "a = m.na.drop()\n",
    "a.count()"
   ]
  },
  {
   "cell_type": "code",
   "execution_count": 7,
   "metadata": {},
   "outputs": [
    {
     "data": {
      "text/plain": [
       "375"
      ]
     },
     "execution_count": 7,
     "metadata": {},
     "output_type": "execute_result"
    }
   ],
   "source": [
    "final = a.drop('_c9')\n",
    "final.count()"
   ]
  },
  {
   "cell_type": "code",
   "execution_count": 8,
   "metadata": {},
   "outputs": [
    {
     "name": "stdout",
     "output_type": "stream",
     "text": [
      "+--------------+------------------+-----+----+-------+-------+-------------+----------+------------+--------------+--------+--------------------+\n",
      "|        Suburb|           Address|Rooms|Type|  Price|SellerG|         Date|  Postcode|Region name |Property Count|Distance|         CouncilArea|\n",
      "+--------------+------------------+-----+----+-------+-------+-------------+----------+------------+--------------+--------+--------------------+\n",
      "|      Parkdale|        13B Elm Gr|    3|   t|1000000|      S|       Obrien|01-07-2017|        3195|          5087|    21.5|Kingston City Cou...|\n",
      "|      Parkdale|  13 Lawborough Av|    3|   h| 985000|      S|     Maitland|01-07-2017|        3195|          5087|    21.5|Kingston City Cou...|\n",
      "|      Parkdale|     44 Melrose St|    3|   h| 820000|      S|      Thomson|01-07-2017|        3195|          5087|    21.5|Kingston City Cou...|\n",
      "|   Pascoe Vale| 123 Cumberland Rd|    3|   h| 870000|     PI|          Ray|01-07-2017|        3044|          7485|     8.5|Moreland City Cou...|\n",
      "|   Pascoe Vale|       9 Dorset Rd|    3|   h| 800000|     SP|        Barry|01-07-2017|        3044|          7485|     8.5|Moreland City Cou...|\n",
      "|   Pascoe Vale|      5 Fleming Gr|    5|   h|1501000|      S|       Jellis|01-07-2017|        3044|          7485|     8.5|Moreland City Cou...|\n",
      "|   Pascoe Vale|        1 Hazel Gr|    3|   h|1663000|      S|       Nelson|01-07-2017|        3044|          7485|     8.5|Moreland City Cou...|\n",
      "|   Pascoe Vale|     1 Virginia St|    4|   h| 780000|     VB|         Brad|01-07-2017|        3044|          7485|     8.5|Moreland City Cou...|\n",
      "|    Point Cook|       23 Bevan Ct|    5|   h| 660000|      S|     Reliance|01-07-2017|        3030|         15542|    14.7|Wyndham City Council|\n",
      "|    Point Cook|    76 Hargrave Av|    4|   h| 663500|      S|hockingstuart|01-07-2017|        3030|         15542|    14.7|Wyndham City Council|\n",
      "|Port Melbourne|      6/156 Bay St|    3|   u|1631000|      S|       Cayzer|01-07-2017|        3207|          8648|     3.5|Melbourne City Co...|\n",
      "|Port Melbourne|        67 Ross St|    3|   h|1665000|      S|         Greg|01-07-2017|        3207|          8648|     3.5|Melbourne City Co...|\n",
      "|Port Melbourne|     107 Stokes St|    4|   h|2450000|     VB|        Lucas|01-07-2017|        3207|          8648|     3.5|Melbourne City Co...|\n",
      "|       Prahran| 11/8 Grandview Gr|    1|   u| 399000|      S|       Jellis|01-07-2017|        3181|          7717|     4.6|Stonnington City ...|\n",
      "|       Prahran|     1/648 High St|    2|   u|1240000|      S|       Rounds|01-07-2017|        3181|          7717|     4.6|Stonnington City ...|\n",
      "|       Preston|      2/1 Ambon St|    3|   h| 727500|      S|       Nelson|01-07-2017|        3072|         14577|     8.4|Darebin City Council|\n",
      "|       Preston|    1/103 Bruce St|    3|   t| 965000|      S|hockingstuart|01-07-2017|        3072|         14577|     8.4|Darebin City Council|\n",
      "|  Princes Hill|       84 Bowen Cr|    2|   h|2530000|      S|       Nelson|01-07-2017|        3054|          1008|     3.5|  Yarra City Council|\n",
      "|  Princes Hill| 251 Richardson St|    3|   h|1930000|      S|hockingstuart|01-07-2017|        3054|          1008|     3.5|  Yarra City Council|\n",
      "|     Reservoir|111 Boldrewood Pde|    3|   h| 840000|     SP|           RW|01-07-2017|        3073|         21650|    12.0|Darebin City Council|\n",
      "+--------------+------------------+-----+----+-------+-------+-------------+----------+------------+--------------+--------+--------------------+\n",
      "only showing top 20 rows\n",
      "\n",
      "root\n",
      " |-- Suburb: string (nullable = true)\n",
      " |-- Address: string (nullable = true)\n",
      " |-- Rooms: integer (nullable = true)\n",
      " |-- Type: string (nullable = true)\n",
      " |-- Price: integer (nullable = true)\n",
      " |-- SellerG: string (nullable = true)\n",
      " |-- Date: string (nullable = true)\n",
      " |-- Postcode: string (nullable = true)\n",
      " |-- Region name : string (nullable = true)\n",
      " |-- Property Count: integer (nullable = true)\n",
      " |-- Distance: double (nullable = true)\n",
      " |-- CouncilArea: string (nullable = true)\n",
      "\n"
     ]
    }
   ],
   "source": [
    "final.show()\n",
    "final.printSchema()"
   ]
  },
  {
   "cell_type": "code",
   "execution_count": 9,
   "metadata": {},
   "outputs": [],
   "source": [
    "# Import VectorAssembler and Vectors\n",
    "from pyspark.ml.linalg import Vectors\n",
    "from pyspark.ml.feature import VectorAssembler"
   ]
  },
  {
   "cell_type": "code",
   "execution_count": 10,
   "metadata": {},
   "outputs": [],
   "source": [
    "# The input columns are the feature column names, and the output column is what you'd like the new column to be named. \n",
    "assembler = VectorAssembler(\n",
    "    inputCols=[\"Price\",\"Rooms\",\"Distance\"],\n",
    "    outputCol=\"features\")"
   ]
  },
  {
   "cell_type": "code",
   "execution_count": 11,
   "metadata": {},
   "outputs": [],
   "source": [
    "# Now that we've created the assembler variable, let's actually transform the data.\n",
    "output = assembler.transform(final)"
   ]
  },
  {
   "cell_type": "code",
   "execution_count": 12,
   "metadata": {},
   "outputs": [
    {
     "name": "stdout",
     "output_type": "stream",
     "text": [
      "root\n",
      " |-- Suburb: string (nullable = true)\n",
      " |-- Address: string (nullable = true)\n",
      " |-- Rooms: integer (nullable = true)\n",
      " |-- Type: string (nullable = true)\n",
      " |-- Price: integer (nullable = true)\n",
      " |-- SellerG: string (nullable = true)\n",
      " |-- Date: string (nullable = true)\n",
      " |-- Postcode: string (nullable = true)\n",
      " |-- Region name : string (nullable = true)\n",
      " |-- Property Count: integer (nullable = true)\n",
      " |-- Distance: double (nullable = true)\n",
      " |-- CouncilArea: string (nullable = true)\n",
      " |-- features: vector (nullable = true)\n",
      "\n"
     ]
    },
    {
     "data": {
      "text/plain": [
       "[Row(Suburb='Parkdale', Address='13B Elm Gr', Rooms=3, Type='t', Price=1000000, SellerG='S', Date='Obrien', Postcode='01-07-2017', Region name ='3195', Property Count=5087, Distance=21.5, CouncilArea='Kingston City Council', features=DenseVector([1000000.0, 3.0, 21.5]))]"
      ]
     },
     "execution_count": 12,
     "metadata": {},
     "output_type": "execute_result"
    }
   ],
   "source": [
    "# Using print schema, you see that the features output column has been added. \n",
    "output.printSchema()\n",
    "\n",
    "# You can see that the features column is a dense vector that combines the various features as expected.\n",
    "output.head(1)"
   ]
  },
  {
   "cell_type": "code",
   "execution_count": 13,
   "metadata": {},
   "outputs": [
    {
     "name": "stdout",
     "output_type": "stream",
     "text": [
      "+--------------------+-------+\n",
      "|            features|  Price|\n",
      "+--------------------+-------+\n",
      "|[1000000.0,3.0,21.5]|1000000|\n",
      "| [985000.0,3.0,21.5]| 985000|\n",
      "| [820000.0,3.0,21.5]| 820000|\n",
      "|  [870000.0,3.0,8.5]| 870000|\n",
      "|  [800000.0,3.0,8.5]| 800000|\n",
      "| [1501000.0,5.0,8.5]|1501000|\n",
      "| [1663000.0,3.0,8.5]|1663000|\n",
      "|  [780000.0,4.0,8.5]| 780000|\n",
      "| [660000.0,5.0,14.7]| 660000|\n",
      "| [663500.0,4.0,14.7]| 663500|\n",
      "| [1631000.0,3.0,3.5]|1631000|\n",
      "| [1665000.0,3.0,3.5]|1665000|\n",
      "| [2450000.0,4.0,3.5]|2450000|\n",
      "|  [399000.0,1.0,4.6]| 399000|\n",
      "| [1240000.0,2.0,4.6]|1240000|\n",
      "|  [727500.0,3.0,8.4]| 727500|\n",
      "|  [965000.0,3.0,8.4]| 965000|\n",
      "| [2530000.0,2.0,3.5]|2530000|\n",
      "| [1930000.0,3.0,3.5]|1930000|\n",
      "| [840000.0,3.0,12.0]| 840000|\n",
      "+--------------------+-------+\n",
      "only showing top 20 rows\n",
      "\n"
     ]
    }
   ],
   "source": [
    "# Let's select two columns (the feature and predictor).\n",
    "# This is now in the appropriate format to be processed by Spark.\n",
    "final_data = output.select(\"features\",'Price')\n",
    "final_data.show()"
   ]
  },
  {
   "cell_type": "code",
   "execution_count": 14,
   "metadata": {},
   "outputs": [],
   "source": [
    "# Let's do a randomised 70/30 split. \n",
    "# Remember, you can use other splits depending on how easy/difficult it is to train your model.\n",
    "train_data,test_data = final_data.randomSplit([0.7,0.3])"
   ]
  },
  {
   "cell_type": "code",
   "execution_count": 15,
   "metadata": {},
   "outputs": [
    {
     "name": "stdout",
     "output_type": "stream",
     "text": [
      "+-------+-----------------+\n",
      "|summary|            Price|\n",
      "+-------+-----------------+\n",
      "|  count|              250|\n",
      "|   mean|         993940.8|\n",
      "| stddev|547454.2046602262|\n",
      "|    min|           340000|\n",
      "|    max|          5000000|\n",
      "+-------+-----------------+\n",
      "\n",
      "+-------+-----------------+\n",
      "|summary|            Price|\n",
      "+-------+-----------------+\n",
      "|  count|              125|\n",
      "|   mean|        1024012.0|\n",
      "| stddev|546847.4157061697|\n",
      "|    min|           377000|\n",
      "|    max|          2850000|\n",
      "+-------+-----------------+\n",
      "\n"
     ]
    }
   ],
   "source": [
    "# Let's see our training data.\n",
    "train_data.describe().show()\n",
    "\n",
    "# And our testing data.\n",
    "test_data.describe().show()"
   ]
  },
  {
   "cell_type": "code",
   "execution_count": 16,
   "metadata": {},
   "outputs": [],
   "source": [
    "lr = LinearRegression(labelCol='Price')"
   ]
  },
  {
   "cell_type": "code",
   "execution_count": 17,
   "metadata": {},
   "outputs": [],
   "source": [
    "# Fit the model to the data.\n",
    "lrModel = lr.fit(train_data)"
   ]
  },
  {
   "cell_type": "code",
   "execution_count": 18,
   "metadata": {},
   "outputs": [
    {
     "name": "stdout",
     "output_type": "stream",
     "text": [
      "Coefficients: [0.9999999999999983,6.655285360639536e-10,-5.271961956991881e-11] Intercept: 3.585523874941904e-10\n"
     ]
    }
   ],
   "source": [
    "# Print the coefficients and intercept for linear regression.\n",
    "print(\"Coefficients: {} Intercept: {}\".format(lrModel.coefficients,lrModel.intercept))"
   ]
  },
  {
   "cell_type": "code",
   "execution_count": 19,
   "metadata": {},
   "outputs": [],
   "source": [
    "# Let's evaluate the model against the test data.\n",
    "test_results = lrModel.evaluate(test_data)"
   ]
  },
  {
   "cell_type": "code",
   "execution_count": 20,
   "metadata": {},
   "outputs": [
    {
     "name": "stdout",
     "output_type": "stream",
     "text": [
      "+--------------------+\n",
      "|           residuals|\n",
      "+--------------------+\n",
      "|5.820766091346741...|\n",
      "|-5.82076609134674...|\n",
      "|-1.16415321826934...|\n",
      "|5.820766091346741...|\n",
      "|1.164153218269348...|\n",
      "|-5.23868948221206...|\n",
      "|-1.74622982740402...|\n",
      "|                 0.0|\n",
      "|-5.82076609134674...|\n",
      "|-9.31322574615478...|\n",
      "|-6.40284270048141...|\n",
      "|-5.23868948221206...|\n",
      "|-4.65661287307739...|\n",
      "|-5.82076609134674...|\n",
      "|-1.22236087918281...|\n",
      "|-1.16415321826934...|\n",
      "|-5.23868948221206...|\n",
      "|-4.65661287307739...|\n",
      "|-8.14907252788543...|\n",
      "|-6.98491930961608...|\n",
      "+--------------------+\n",
      "only showing top 20 rows\n",
      "\n",
      "RSME: 7.450944385923186e-10\n"
     ]
    }
   ],
   "source": [
    "# Interesting results! This shows the difference between the predicted value and the test data.\n",
    "test_results.residuals.show()\n",
    "\n",
    "# Let's get some evaluation metrics (as discussed in the previous linear regression notebook).\n",
    "print(\"RSME: {}\".format(test_results.rootMeanSquaredError))"
   ]
  },
  {
   "cell_type": "code",
   "execution_count": 21,
   "metadata": {},
   "outputs": [
    {
     "name": "stdout",
     "output_type": "stream",
     "text": [
      "R2: 1.0\n"
     ]
    }
   ],
   "source": [
    "# We can also get the R2 value. \n",
    "print(\"R2: {}\".format(test_results.r2))"
   ]
  },
  {
   "cell_type": "code",
   "execution_count": 22,
   "metadata": {},
   "outputs": [
    {
     "name": "stdout",
     "output_type": "stream",
     "text": [
      "+-------+------------------+\n",
      "|summary|             Price|\n",
      "+-------+------------------+\n",
      "|  count|               375|\n",
      "|   mean|1003964.5333333333|\n",
      "| stddev| 546704.7536307834|\n",
      "|    min|            340000|\n",
      "|    max|           5000000|\n",
      "+-------+------------------+\n",
      "\n"
     ]
    }
   ],
   "source": [
    "final_data.describe().show()"
   ]
  },
  {
   "cell_type": "code",
   "execution_count": 23,
   "metadata": {},
   "outputs": [
    {
     "name": "stdout",
     "output_type": "stream",
     "text": [
      "+-------------------+\n",
      "|           features|\n",
      "+-------------------+\n",
      "| [377000.0,1.0,7.3]|\n",
      "|[385000.0,2.0,18.4]|\n",
      "| [399000.0,1.0,4.6]|\n",
      "|[413000.0,3.0,31.7]|\n",
      "| [420000.0,1.0,7.2]|\n",
      "|[420000.0,3.0,20.6]|\n",
      "|[445000.0,2.0,14.0]|\n",
      "|[450000.0,2.0,17.9]|\n",
      "|[451500.0,3.0,18.4]|\n",
      "| [452000.0,2.0,0.0]|\n",
      "| [460000.0,2.0,5.0]|\n",
      "| [460000.0,2.0,7.5]|\n",
      "|[460000.0,3.0,20.6]|\n",
      "|[480000.0,3.0,27.2]|\n",
      "|[510000.0,4.0,17.6]|\n",
      "|[515000.0,3.0,25.9]|\n",
      "| [520000.0,2.0,5.7]|\n",
      "| [525000.0,2.0,5.0]|\n",
      "|[525000.0,3.0,10.5]|\n",
      "|[525000.0,4.0,25.5]|\n",
      "+-------------------+\n",
      "only showing top 20 rows\n",
      "\n"
     ]
    }
   ],
   "source": [
    "# Let's just select the features column (removing the label column).\n",
    "unlabeled_data = test_data.select('features')\n",
    "unlabeled_data.show()"
   ]
  },
  {
   "cell_type": "code",
   "execution_count": 24,
   "metadata": {},
   "outputs": [],
   "source": [
    "# Now we can transform the unlabeled data.\n",
    "predictions = lrModel.transform(unlabeled_data)"
   ]
  },
  {
   "cell_type": "code",
   "execution_count": 25,
   "metadata": {},
   "outputs": [
    {
     "name": "stdout",
     "output_type": "stream",
     "text": [
      "+-------------------+------------------+\n",
      "|           features|        prediction|\n",
      "+-------------------+------------------+\n",
      "| [377000.0,1.0,7.3]|376999.99999999994|\n",
      "|[385000.0,2.0,18.4]|385000.00000000006|\n",
      "| [399000.0,1.0,4.6]| 399000.0000000001|\n",
      "|[413000.0,3.0,31.7]|412999.99999999994|\n",
      "| [420000.0,1.0,7.2]| 419999.9999999999|\n",
      "|[420000.0,3.0,20.6]| 420000.0000000005|\n",
      "|[445000.0,2.0,14.0]| 445000.0000000002|\n",
      "|[450000.0,2.0,17.9]|          450000.0|\n",
      "|[451500.0,3.0,18.4]| 451500.0000000006|\n",
      "| [452000.0,2.0,0.0]|452000.00000000093|\n",
      "| [460000.0,2.0,5.0]|460000.00000000064|\n",
      "| [460000.0,2.0,7.5]| 460000.0000000005|\n",
      "|[460000.0,3.0,20.6]|460000.00000000047|\n",
      "|[480000.0,3.0,27.2]|480000.00000000006|\n",
      "|[510000.0,4.0,17.6]| 510000.0000000012|\n",
      "|[515000.0,3.0,25.9]| 515000.0000000001|\n",
      "| [520000.0,2.0,5.7]| 520000.0000000005|\n",
      "| [525000.0,2.0,5.0]| 525000.0000000005|\n",
      "|[525000.0,3.0,10.5]| 525000.0000000008|\n",
      "|[525000.0,4.0,25.5]| 525000.0000000007|\n",
      "+-------------------+------------------+\n",
      "only showing top 20 rows\n",
      "\n"
     ]
    },
    {
     "data": {
      "text/plain": [
       "[Row(features=DenseVector([377000.0, 1.0, 7.3]), prediction=376999.99999999994)]"
      ]
     },
     "execution_count": 25,
     "metadata": {},
     "output_type": "execute_result"
    }
   ],
   "source": [
    "# It worked! Feeding the unlabeled data features into the model results in a prediction, \n",
    "# which is the amount someone with those features is likely to spend in a year.\n",
    "predictions.show()\n",
    "predictions.head(1)"
   ]
  },
  {
   "cell_type": "code",
   "execution_count": null,
   "metadata": {},
   "outputs": [],
   "source": []
  },
  {
   "cell_type": "code",
   "execution_count": null,
   "metadata": {},
   "outputs": [],
   "source": []
  }
 ],
 "metadata": {
  "kernelspec": {
   "display_name": "Python 3",
   "language": "python",
   "name": "python3"
  },
  "language_info": {
   "codemirror_mode": {
    "name": "ipython",
    "version": 3
   },
   "file_extension": ".py",
   "mimetype": "text/x-python",
   "name": "python",
   "nbconvert_exporter": "python",
   "pygments_lexer": "ipython3",
   "version": "3.5.2"
  }
 },
 "nbformat": 4,
 "nbformat_minor": 2
}
